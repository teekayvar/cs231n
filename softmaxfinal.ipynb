{
  "nbformat": 4,
  "nbformat_minor": 0,
  "metadata": {
    "colab": {
      "name": "softmaxfinal.ipynb",
      "provenance": [],
      "include_colab_link": true
    },
    "language_info": {
      "name": "python"
    },
    "kernelspec": {
      "name": "python3",
      "display_name": "Python 3"
    }
  },
  "cells": [
    {
      "cell_type": "markdown",
      "metadata": {
        "id": "view-in-github",
        "colab_type": "text"
      },
      "source": [
        "<a href=\"https://colab.research.google.com/github/teekayvar/cs231n/blob/main/softmaxfinal.ipynb\" target=\"_parent\"><img src=\"https://colab.research.google.com/assets/colab-badge.svg\" alt=\"Open In Colab\"/></a>"
      ]
    },
    {
      "cell_type": "code",
      "metadata": {
        "colab": {
          "base_uri": "https://localhost:8080/"
        },
        "id": "5HGAkEHz4OHP",
        "outputId": "5927365d-a8de-4693-994b-66688a927c90"
      },
      "source": [
        "# This mounts your Google Drive to the Colab VM.\n",
        "from google.colab import drive\n",
        "drive.mount('/content/drive', force_remount=True)"
      ],
      "execution_count": null,
      "outputs": [
        {
          "output_type": "stream",
          "name": "stdout",
          "text": [
            "Mounted at /content/drive\n"
          ]
        }
      ]
    },
    {
      "cell_type": "code",
      "metadata": {
        "colab": {
          "base_uri": "https://localhost:8080/"
        },
        "id": "Iu6ssOWio8sk",
        "outputId": "9a0cc2f9-9f51-4ac1-b6cc-b75cc5a6e513"
      },
      "source": [
        "# Enter the foldername in your Drive where you have saved the unzipped\n",
        "# assignment folder, e.g. 'cs231n/assignments/assignment1/'\n",
        "FOLDERNAME = 'assignment1/cs231n'\n",
        "assert FOLDERNAME is not None, \"[!] Enter the foldername.\"\n",
        "\n",
        "# Now that we've mounted your Drive, this ensures that\n",
        "# the Python interpreter of the Colab VM can load\n",
        "# python files from within it.\n",
        "import sys\n",
        "sys.path.append('/content/drive/MyDrive/{}'.format(FOLDERNAME))\n",
        "sys.path.append('/content/drive/MyDrive/assignment1/')\n",
        "\n",
        "# This downloads the CIFAR-10 dataset to your Drive\n",
        "# if it doesn't already exist.\n",
        "%cd /content/drive/MyDrive/assignment1/cs231n/datasets\n",
        "!bash get_datasets.sh\n",
        "%cd /content"
      ],
      "execution_count": null,
      "outputs": [
        {
          "output_type": "stream",
          "name": "stdout",
          "text": [
            "/content/drive/MyDrive/assignment1/cs231n/datasets\n",
            "/content\n"
          ]
        }
      ]
    },
    {
      "cell_type": "markdown",
      "metadata": {
        "tags": [
          "pdf-title"
        ],
        "id": "WbZcxv4Io8sp"
      },
      "source": [
        "# Softmax exercise\n",
        "\n",
        "*Complete and hand in this completed worksheet (including its outputs and any supporting code outside of the worksheet) with your assignment submission. For more details see the [assignments page](http://vision.stanford.edu/teaching/cs231n/assignments.html) on the course website.*\n",
        "\n",
        "This exercise is analogous to the SVM exercise. You will:\n",
        "\n",
        "- implement a fully-vectorized **loss function** for the Softmax classifier\n",
        "- implement the fully-vectorized expression for its **analytic gradient**\n",
        "- **check your implementation** with numerical gradient\n",
        "- use a validation set to **tune the learning rate and regularization** strength\n",
        "- **optimize** the loss function with **SGD**\n",
        "- **visualize** the final learned weights\n"
      ]
    },
    {
      "cell_type": "code",
      "metadata": {
        "tags": [
          "pdf-ignore"
        ],
        "id": "5c0Ijw7Eo8sr"
      },
      "source": [
        "import random\n",
        "import numpy as np\n",
        "from cs231n.data_utils import load_CIFAR10\n",
        "import matplotlib.pyplot as plt\n",
        "\n",
        "%matplotlib inline\n",
        "plt.rcParams['figure.figsize'] = (10.0, 8.0) # set default size of plots\n",
        "plt.rcParams['image.interpolation'] = 'nearest'\n",
        "plt.rcParams['image.cmap'] = 'gray'\n",
        "\n",
        "# for auto-reloading extenrnal modules\n",
        "# see http://stackoverflow.com/questions/1907993/autoreload-of-modules-in-ipython\n",
        "%load_ext autoreload\n",
        "%autoreload 2"
      ],
      "execution_count": null,
      "outputs": []
    },
    {
      "cell_type": "code",
      "metadata": {
        "tags": [
          "pdf-ignore"
        ],
        "colab": {
          "base_uri": "https://localhost:8080/"
        },
        "id": "--uAlJ5Ro8st",
        "outputId": "3f4ae551-1bf5-4a7c-c976-b42ba42d22b2"
      },
      "source": [
        "def get_CIFAR10_data(num_training=49000, num_validation=1000, num_test=1000, num_dev=500):\n",
        "    \"\"\"\n",
        "    Load the CIFAR-10 dataset from disk and perform preprocessing to prepare\n",
        "    it for the linear classifier. These are the same steps as we used for the\n",
        "    SVM, but condensed to a single function.  \n",
        "    \"\"\"\n",
        "    # Load the raw CIFAR-10 data\n",
        "    cifar10_dir = '/content/drive/MyDrive/assignment1/cs231n/datasets/cifar-10-batches-py'\n",
        "    \n",
        "    # Cleaning up variables to prevent loading data multiple times (which may cause memory issue)\n",
        "    try:\n",
        "       del X_train, y_train\n",
        "       del X_test, y_test\n",
        "       print('Clear previously loaded data.')\n",
        "    except:\n",
        "       pass\n",
        "\n",
        "    X_train, y_train, X_test, y_test = load_CIFAR10(cifar10_dir)\n",
        "    \n",
        "    # subsample the data\n",
        "    mask = list(range(num_training, num_training + num_validation))\n",
        "    X_val = X_train[mask]\n",
        "    y_val = y_train[mask]\n",
        "    mask = list(range(num_training))\n",
        "    X_train = X_train[mask]\n",
        "    y_train = y_train[mask]\n",
        "    mask = list(range(num_test))\n",
        "    X_test = X_test[mask]\n",
        "    y_test = y_test[mask]\n",
        "    mask = np.random.choice(num_training, num_dev, replace=False)\n",
        "    X_dev = X_train[mask]\n",
        "    y_dev = y_train[mask]\n",
        "    \n",
        "    # Preprocessing: reshape the image data into rows\n",
        "    X_train = np.reshape(X_train, (X_train.shape[0], -1))\n",
        "    X_val = np.reshape(X_val, (X_val.shape[0], -1))\n",
        "    X_test = np.reshape(X_test, (X_test.shape[0], -1))\n",
        "    X_dev = np.reshape(X_dev, (X_dev.shape[0], -1))\n",
        "    \n",
        "    # Normalize the data: subtract the mean image\n",
        "    mean_image = np.mean(X_train, axis = 0)\n",
        "    X_train -= mean_image\n",
        "    X_val -= mean_image\n",
        "    X_test -= mean_image\n",
        "    X_dev -= mean_image\n",
        "    \n",
        "    # add bias dimension and transform into columns\n",
        "    X_train = np.hstack([X_train, np.ones((X_train.shape[0], 1))])\n",
        "    X_val = np.hstack([X_val, np.ones((X_val.shape[0], 1))])\n",
        "    X_test = np.hstack([X_test, np.ones((X_test.shape[0], 1))])\n",
        "    X_dev = np.hstack([X_dev, np.ones((X_dev.shape[0], 1))])\n",
        "    \n",
        "    return X_train, y_train, X_val, y_val, X_test, y_test, X_dev, y_dev\n",
        "\n",
        "\n",
        "# Invoke the above function to get our data.\n",
        "X_train, y_train, X_val, y_val, X_test, y_test, X_dev, y_dev = get_CIFAR10_data()\n",
        "print('Train data shape: ', X_train.shape)\n",
        "print('Train labels shape: ', y_train.shape)\n",
        "print('Validation data shape: ', X_val.shape)\n",
        "print('Validation labels shape: ', y_val.shape)\n",
        "print('Test data shape: ', X_test.shape)\n",
        "print('Test labels shape: ', y_test.shape)\n",
        "print('dev data shape: ', X_dev.shape)\n",
        "print('dev labels shape: ', y_dev.shape)"
      ],
      "execution_count": null,
      "outputs": [
        {
          "output_type": "stream",
          "name": "stdout",
          "text": [
            "Train data shape:  (49000, 3073)\n",
            "Train labels shape:  (49000,)\n",
            "Validation data shape:  (1000, 3073)\n",
            "Validation labels shape:  (1000,)\n",
            "Test data shape:  (1000, 3073)\n",
            "Test labels shape:  (1000,)\n",
            "dev data shape:  (500, 3073)\n",
            "dev labels shape:  (500,)\n"
          ]
        }
      ]
    },
    {
      "cell_type": "markdown",
      "metadata": {
        "id": "uuEXsR0vo8su"
      },
      "source": [
        "## Softmax Classifier\n",
        "\n",
        "Your code for this section will all be written inside `cs231n/classifiers/softmax.py`.\n"
      ]
    },
    {
      "cell_type": "code",
      "metadata": {
        "colab": {
          "base_uri": "https://localhost:8080/"
        },
        "id": "ZSJ3P030o8sv",
        "outputId": "1669341b-54b3-4d3a-fb01-f6b6cc0b6502"
      },
      "source": [
        "# First implement the naive softmax loss function with nested loops.\n",
        "# Open the file cs231n/classifiers/softmax.py and implement the\n",
        "# softmax_loss_naive function.\n",
        "\n",
        "from cs231n.classifiers.softmax import softmax_loss_naive\n",
        "import time\n",
        "\n",
        "# Generate a random softmax weight matrix and use it to compute the loss.\n",
        "W = np.random.randn(3073, 10) * 0.0001\n",
        "loss, grad = softmax_loss_naive(W, X_dev, y_dev, 0.0)\n",
        "\n",
        "# As a rough sanity check, our loss should be something close to -log(0.1).\n",
        "print('loss: %f' % loss)\n",
        "print('sanity check: %f' % (-np.log(0.1)))"
      ],
      "execution_count": null,
      "outputs": [
        {
          "output_type": "stream",
          "name": "stdout",
          "text": [
            "loss: 2.350930\n",
            "sanity check: 2.302585\n"
          ]
        }
      ]
    },
    {
      "cell_type": "markdown",
      "metadata": {
        "tags": [
          "pdf-inline"
        ],
        "id": "cGr9Yumto8sw"
      },
      "source": [
        "**Inline Question 1**\n",
        "\n",
        "Why do we expect our loss to be close to -log(0.1)? Explain briefly.**\n",
        "\n",
        "$\\color{blue}{\\textit Your Answer:}$ \n",
        "\n",
        "Since we are calculating the softmax based on some initial random weights, the initial loss should be approximately -log(0.1) because all the classes are equally likely to be chosen in the beginning. In CIFAR-10, since all images belong to any 1 of the 10 available classes, the probability of choosing the correct class is 10%(0.1). Since the softmax loss is the negative log probability of the correct class, therefore the loss is -log(0.1).\n",
        "\n"
      ]
    },
    {
      "cell_type": "code",
      "metadata": {
        "colab": {
          "base_uri": "https://localhost:8080/"
        },
        "id": "04JMRIuoo8sx",
        "outputId": "27e48f0c-6c41-4297-86eb-b167f5a414c0"
      },
      "source": [
        "# Complete the implementation of softmax_loss_naive and implement a (naive)\n",
        "# version of the gradient that uses nested loops.\n",
        "loss, grad = softmax_loss_naive(W, X_dev, y_dev, 0.0)\n",
        "\n",
        "# As we did for the SVM, use numeric gradient checking as a debugging tool.\n",
        "# The numeric gradient should be close to the analytic gradient.\n",
        "from cs231n.gradient_check import grad_check_sparse\n",
        "f = lambda w: softmax_loss_naive(w, X_dev, y_dev, 0.0)[0]\n",
        "grad_numerical = grad_check_sparse(f, W, grad, 10)\n",
        "\n",
        "# similar to SVM case, do another gradient check with regularization\n",
        "loss, grad = softmax_loss_naive(W, X_dev, y_dev, 5e1)\n",
        "f = lambda w: softmax_loss_naive(w, X_dev, y_dev, 5e1)[0]\n",
        "grad_numerical = grad_check_sparse(f, W, grad, 10)"
      ],
      "execution_count": null,
      "outputs": [
        {
          "output_type": "stream",
          "name": "stdout",
          "text": [
            "numerical: 0.114992 analytic: 0.114992, relative error: 3.908561e-07\n",
            "numerical: 1.027183 analytic: 1.027183, relative error: 4.159079e-08\n",
            "numerical: -4.244531 analytic: -4.244531, relative error: 1.080915e-09\n",
            "numerical: -0.026295 analytic: -0.026295, relative error: 3.835785e-06\n",
            "numerical: 1.589079 analytic: 1.589079, relative error: 5.378287e-08\n",
            "numerical: 0.534168 analytic: 0.534168, relative error: 9.915850e-08\n",
            "numerical: -0.261297 analytic: -0.261297, relative error: 2.238181e-07\n",
            "numerical: 0.899416 analytic: 0.899416, relative error: 5.055252e-08\n",
            "numerical: -0.747051 analytic: -0.747051, relative error: 2.839109e-08\n",
            "numerical: 2.521519 analytic: 2.521519, relative error: 2.237898e-08\n",
            "numerical: -3.384358 analytic: -3.387202, relative error: 4.200258e-04\n",
            "numerical: 0.252760 analytic: 0.251448, relative error: 2.602106e-03\n",
            "numerical: 4.808865 analytic: 4.807297, relative error: 1.630860e-04\n",
            "numerical: -0.833203 analytic: -0.834828, relative error: 9.738460e-04\n",
            "numerical: -0.580990 analytic: -0.586511, relative error: 4.729541e-03\n",
            "numerical: 3.806623 analytic: 3.808407, relative error: 2.342412e-04\n",
            "numerical: 0.188375 analytic: 0.190209, relative error: 4.844575e-03\n",
            "numerical: -0.298164 analytic: -0.296932, relative error: 2.070147e-03\n",
            "numerical: 1.210702 analytic: 1.209409, relative error: 5.343789e-04\n",
            "numerical: 1.954047 analytic: 1.957040, relative error: 7.651320e-04\n"
          ]
        }
      ]
    },
    {
      "cell_type": "code",
      "metadata": {
        "colab": {
          "base_uri": "https://localhost:8080/"
        },
        "id": "vDM6TYQqo8sy",
        "outputId": "7a85b4ab-198b-4dc6-9e81-bef04ca26b38"
      },
      "source": [
        "# Now that we have a naive implementation of the softmax loss function and its gradient,\n",
        "# implement a vectorized version in softmax_loss_vectorized.\n",
        "# The two versions should compute the same results, but the vectorized version should be\n",
        "# much faster.\n",
        "tic = time.time()\n",
        "loss_naive, grad_naive = softmax_loss_naive(W, X_dev, y_dev, 0.000005)\n",
        "toc = time.time()\n",
        "print('naive loss: %e computed in %fs' % (loss_naive, toc - tic))\n",
        "\n",
        "from cs231n.classifiers.softmax import softmax_loss_vectorized\n",
        "tic = time.time()\n",
        "loss_vectorized, grad_vectorized = softmax_loss_vectorized(W, X_dev, y_dev, 0.000005)\n",
        "toc = time.time()\n",
        "print('vectorized loss: %e computed in %fs' % (loss_vectorized, toc - tic))\n",
        "\n",
        "# As we did for the SVM, we use the Frobenius norm to compare the two versions\n",
        "# of the gradient.\n",
        "grad_difference = np.linalg.norm(grad_naive - grad_vectorized, ord='fro')\n",
        "print('Loss difference: %f' % np.abs(loss_naive - loss_vectorized))\n",
        "print('Gradient difference: %f' % grad_difference)"
      ],
      "execution_count": null,
      "outputs": [
        {
          "output_type": "stream",
          "name": "stdout",
          "text": [
            "naive loss: 2.350930e+00 computed in 0.159653s\n",
            "vectorized loss: 2.350930e+00 computed in 0.023197s\n",
            "Loss difference: 0.000000\n",
            "Gradient difference: 0.000000\n"
          ]
        }
      ]
    },
    {
      "cell_type": "code",
      "metadata": {
        "id": "tuning",
        "tags": [
          "code"
        ],
        "colab": {
          "base_uri": "https://localhost:8080/"
        },
        "outputId": "eb9115d4-e086-4e29-f19e-8fc800c6f559"
      },
      "source": [
        "# Use the validation set to tune hyperparameters (regularization strength and\n",
        "# learning rate). You should experiment with different ranges for the learning\n",
        "# rates and regularization strengths; if you are careful you should be able to\n",
        "# get a classification accuracy of over 0.35 on the validation set.\n",
        "from cs231n.classifiers import Softmax\n",
        "results = {}\n",
        "best_val = -1\n",
        "best_softmax = None\n",
        "learning_rates = [1e-7, 5e-7]\n",
        "regularization_strengths = [2.5e4, 5e4]\n",
        "\n",
        "\n",
        "for learningRate in learning_rates:\n",
        "    for regularization in regularization_strengths:\n",
        "        softmax = Softmax()\n",
        "        loss_hist = softmax.train(X_train, y_train, learning_rate=learningRate, reg=regularization,\n",
        "                      num_iters=1500, verbose=True)\n",
        "        \n",
        "        y_train_pred = softmax.predict(X_train)\n",
        "        y_val_pred = softmax.predict(X_val)\n",
        "        \n",
        "        train_accuracy = np.mean(y_train == y_train_pred)\n",
        "        val_accuracy = np.mean(y_val == y_val_pred)\n",
        "        results[(learningRate, regularization)] = (train_accuracy, val_accuracy)\n",
        "        if val_accuracy > best_val:\n",
        "            best_val = val_accuracy\n",
        "            best_softmax = softmax\n",
        "################################################################################\n",
        "# TODO:                                                                        #\n",
        "# Use the validation set to set the learning rate and regularization strength. #\n",
        "# This should be identical to the validation that you did for the SVM; save    #\n",
        "# the best trained softmax classifer in best_softmax.                          #\n",
        "################################################################################\n",
        "# Your code\n",
        "################################################################################\n",
        "#                              END OF YOUR CODE                                #\n",
        "################################################################################\n",
        "    \n",
        "# Print out results.\n",
        "for lr, reg in sorted(results):\n",
        "    train_accuracy, val_accuracy = results[(lr, reg)]\n",
        "    print('lr %e reg %e train accuracy: %f val accuracy: %f' % (\n",
        "                lr, reg, train_accuracy, val_accuracy))\n",
        "    \n",
        "print('best validation accuracy achieved during cross-validation: %f' % best_val)\n",
        "\n"
      ],
      "execution_count": null,
      "outputs": [
        {
          "output_type": "stream",
          "name": "stdout",
          "text": [
            "iteration 0 / 1500: loss 765.721699\n",
            "iteration 100 / 1500: loss 462.637283\n",
            "iteration 200 / 1500: loss 280.347197\n",
            "iteration 300 / 1500: loss 170.506645\n",
            "iteration 400 / 1500: loss 103.857430\n",
            "iteration 500 / 1500: loss 63.631841\n",
            "iteration 600 / 1500: loss 39.372616\n",
            "iteration 700 / 1500: loss 24.690494\n",
            "iteration 800 / 1500: loss 15.770426\n",
            "iteration 900 / 1500: loss 10.390389\n",
            "iteration 1000 / 1500: loss 7.121134\n",
            "iteration 1100 / 1500: loss 5.154905\n",
            "iteration 1200 / 1500: loss 3.906351\n",
            "iteration 1300 / 1500: loss 3.253289\n",
            "iteration 1400 / 1500: loss 2.747406\n",
            "iteration 0 / 1500: loss 1563.044956\n",
            "iteration 100 / 1500: loss 573.099770\n",
            "iteration 200 / 1500: loss 211.263466\n",
            "iteration 300 / 1500: loss 78.699220\n",
            "iteration 400 / 1500: loss 30.141207\n",
            "iteration 500 / 1500: loss 12.495207\n",
            "iteration 600 / 1500: loss 6.043988\n",
            "iteration 700 / 1500: loss 3.612824\n",
            "iteration 800 / 1500: loss 2.669486\n",
            "iteration 900 / 1500: loss 2.436568\n",
            "iteration 1000 / 1500: loss 2.210546\n",
            "iteration 1100 / 1500: loss 2.230275\n",
            "iteration 1200 / 1500: loss 2.184884\n",
            "iteration 1300 / 1500: loss 2.186083\n",
            "iteration 1400 / 1500: loss 2.247889\n",
            "iteration 0 / 1500: loss 763.819949\n",
            "iteration 100 / 1500: loss 62.809190\n",
            "iteration 200 / 1500: loss 7.012074\n",
            "iteration 300 / 1500: loss 2.544411\n",
            "iteration 400 / 1500: loss 2.244114\n",
            "iteration 500 / 1500: loss 2.032541\n",
            "iteration 600 / 1500: loss 2.170147\n",
            "iteration 700 / 1500: loss 2.162520\n",
            "iteration 800 / 1500: loss 2.136575\n",
            "iteration 900 / 1500: loss 2.132625\n",
            "iteration 1000 / 1500: loss 2.091006\n",
            "iteration 1100 / 1500: loss 2.229737\n",
            "iteration 1200 / 1500: loss 2.092024\n",
            "iteration 1300 / 1500: loss 2.142097\n",
            "iteration 1400 / 1500: loss 2.129844\n",
            "iteration 0 / 1500: loss 1529.820512\n",
            "iteration 100 / 1500: loss 11.741964\n",
            "iteration 200 / 1500: loss 2.270333\n",
            "iteration 300 / 1500: loss 2.222727\n",
            "iteration 400 / 1500: loss 2.170350\n",
            "iteration 500 / 1500: loss 2.135628\n",
            "iteration 600 / 1500: loss 2.225221\n",
            "iteration 700 / 1500: loss 2.084782\n",
            "iteration 800 / 1500: loss 2.133129\n",
            "iteration 900 / 1500: loss 2.193184\n",
            "iteration 1000 / 1500: loss 2.210105\n",
            "iteration 1100 / 1500: loss 2.190115\n",
            "iteration 1200 / 1500: loss 2.190274\n",
            "iteration 1300 / 1500: loss 2.127221\n",
            "iteration 1400 / 1500: loss 2.150394\n",
            "lr 1.000000e-07 reg 2.500000e+04 train accuracy: 0.352388 val accuracy: 0.373000\n",
            "lr 1.000000e-07 reg 5.000000e+04 train accuracy: 0.327959 val accuracy: 0.337000\n",
            "lr 5.000000e-07 reg 2.500000e+04 train accuracy: 0.343571 val accuracy: 0.355000\n",
            "lr 5.000000e-07 reg 5.000000e+04 train accuracy: 0.318102 val accuracy: 0.324000\n",
            "best validation accuracy achieved during cross-validation: 0.373000\n"
          ]
        }
      ]
    },
    {
      "cell_type": "code",
      "metadata": {
        "id": "test",
        "colab": {
          "base_uri": "https://localhost:8080/"
        },
        "outputId": "8246d8d2-03ab-4847-d1a7-47aad7fdcf69"
      },
      "source": [
        "# evaluate on test set\n",
        "# Evaluate the best softmax on test set\n",
        "y_test_pred = best_softmax.predict(X_test)\n",
        "test_accuracy = np.mean(y_test == y_test_pred)\n",
        "print('softmax on raw pixels final test set accuracy: %f' % (test_accuracy, ))"
      ],
      "execution_count": null,
      "outputs": [
        {
          "output_type": "stream",
          "name": "stdout",
          "text": [
            "softmax on raw pixels final test set accuracy: 0.361000\n"
          ]
        }
      ]
    },
    {
      "cell_type": "markdown",
      "metadata": {
        "tags": [
          "pdf-inline"
        ],
        "id": "tsVzaojUo8s0"
      },
      "source": [
        "**Inline Question 2** - *True or False*\n",
        "\n",
        "Suppose the overall training loss is defined as the sum of the per-datapoint loss over all training examples. It is possible to add a new datapoint to a training set that would leave the SVM loss unchanged, but this is not the case with the Softmax classifier loss.\n",
        "\n",
        "$\\color{blue}{\\textit Your Answer:}$\n",
        "True\n",
        "\n",
        "\n",
        "$\\color{blue}{\\textit Your Explanation:}$\n",
        "While the Softmax classifier considers each and every data point, the SVM classifier loss does not do so if it is unable to meet the margin.\n",
        "\n",
        "\n"
      ]
    },
    {
      "cell_type": "code",
      "metadata": {
        "id": "kt-FUHxfo8s0",
        "colab": {
          "base_uri": "https://localhost:8080/",
          "height": 380
        },
        "outputId": "2a1feda9-363d-4963-f7bb-ff0d85edf624"
      },
      "source": [
        "# Visualize the learned weights for each class\n",
        "w = best_softmax.W[:-1,:] # strip out the bias\n",
        "w = w.reshape(32, 32, 3, 10)\n",
        "\n",
        "w_min, w_max = np.min(w), np.max(w)\n",
        "\n",
        "classes = ['plane', 'car', 'bird', 'cat', 'deer', 'dog', 'frog', 'horse', 'ship', 'truck']\n",
        "for i in range(10):\n",
        "    plt.subplot(2, 5, i + 1)\n",
        "    \n",
        "    # Rescale the weights to be between 0 and 255\n",
        "    wimg = 255.0 * (w[:, :, :, i].squeeze() - w_min) / (w_max - w_min)\n",
        "    plt.imshow(wimg.astype('uint8'))\n",
        "    plt.axis('off')\n",
        "    plt.title(classes[i])"
      ],
      "execution_count": null,
      "outputs": [
        {
          "output_type": "display_data",
          "data": {
            "image/png": "[encoded data removed]",
            "text/plain": [
              "<Figure size 720x576 with 10 Axes>"
            ]
          },
          "metadata": {
            "needs_background": "light"
          }
        }
      ]
    },
    {
      "cell_type": "code",
      "metadata": {
        "id": "UYFHTZoKo8s1"
      },
      "source": [
        ""
      ],
      "execution_count": null,
      "outputs": []
    }
  ]
}